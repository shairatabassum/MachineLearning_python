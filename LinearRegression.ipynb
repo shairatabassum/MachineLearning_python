{
  "nbformat": 4,
  "nbformat_minor": 0,
  "metadata": {
    "colab": {
      "name": "LinearRegression.ipynb",
      "provenance": [],
      "toc_visible": true,
      "authorship_tag": "ABX9TyN4KmvCOXNIZsF2sIuE10HW",
      "include_colab_link": true
    },
    "kernelspec": {
      "name": "python3",
      "display_name": "Python 3"
    },
    "language_info": {
      "name": "python"
    }
  },
  "cells": [
    {
      "cell_type": "markdown",
      "metadata": {
        "id": "view-in-github",
        "colab_type": "text"
      },
      "source": [
        "<a href=\"https://colab.research.google.com/github/shairatabassum/MachineLearning_python/blob/main/LinearRegression.ipynb\" target=\"_parent\"><img src=\"https://colab.research.google.com/assets/colab-badge.svg\" alt=\"Open In Colab\"/></a>"
      ]
    },
    {
      "cell_type": "markdown",
      "metadata": {
        "id": "rPT6aIr5MPVC"
      },
      "source": [
        "# **Linear Regression Algorithm**\n",
        "\n",
        "This algorithm is called Linear Regression because it approximates or predicts data with a linear function.\n",
        "\n",
        "**Approximation line equation:** $\\hat{y} = wx + b$\n",
        "\n",
        "**Cost Function:** MSE (Mean Square Error) to find the values of weight $w$ and bias $b$. \n",
        "\n",
        "$ MSE = J(w, b) = \\frac{1}{N}\\ $$\\sum^{n}_{i=1}$$ (y_i - (wx_i + b))^2 $\n",
        "\n",
        "The goal is to minimize the error as much as possible which requires to find the minimum of this function. Thus, the derivative of the gradient is calculated in order to find the minimum of the cost function. Using these calculated derivatives or gradients, an iterative method is applied named **Gradient Descent** to get to the minimum of $J(w)$.\n",
        "\n",
        "Using the cost function with an initialization of weight and bias, it goes towards the direction of the steepest descent. This process is done iteratively until the minimum error is reached. However, the weight and bias are updated after each iteration.\n",
        "\n",
        "**Update Rules:**\n",
        "* $ w = w - \\alpha \\times dw $\n",
        "* $ b = b - \\alpha \\times db $\n",
        "* $ \\frac{dJ}{dw}\\ = dw = \\frac{1}{N}\\ $$\\sum^{n}_{i=1}$$ - 2x_i (y_i - (wx_i + b)) = \\frac{1}{N}\\ $$\\sum^{n}_{i=1}$$ 2x_i(\\hat{y} - y_i) $\n",
        "* $ \\frac{dJ}{db}\\ = db = \\frac{1}{N}\\ $$\\sum^{n}_{i=1}$$ - 2 (y_i - (wx_i + b)) = \\frac{1}{N}\\ $$\\sum^{n}_{i=1}$$ 2(\\hat{y} - y_i) $\n",
        "\n",
        "Here, the $\\alpha$ is called **Learning Rate** which defines how far the steps should be taken towards the direction of the steepest descent in each iteration. If the learning rate is small, it may take longer but it can finally reach to the minimum. On the otherhand, if the learning rate is big, then it might be faster but it will jump around and never find the minimum. Thus, the learning rate is an important parameter that need to be specified to achieve the goal.\n",
        "\n",
        "**Best Fit Line in Linear Regression:**\n",
        "Linear Regression is the process of finding a line that best fits the data points available on the plot, so that it can be used to predict output values for given inputs. So, a line of best fit is a straight line that represents the best approximation of a scatter plot of data points."
      ]
    },
    {
      "cell_type": "markdown",
      "metadata": {
        "id": "oY4mpsdUak2J"
      },
      "source": [
        "### **Import Dataset**"
      ]
    },
    {
      "cell_type": "code",
      "metadata": {
        "id": "f0MdUb0ZaXDV"
      },
      "source": [
        "# import libraries\n",
        "import numpy as np\n",
        "import matplotlib.pyplot as plt\n",
        "from sklearn.model_selection import train_test_split\n",
        "from sklearn import datasets\n",
        "from sklearn.metrics import confusion_matrix\n",
        "import seaborn as sns\n",
        "from sklearn.linear_model import LinearRegression\n",
        "from sklearn.metrics import mean_squared_error"
      ],
      "execution_count": 22,
      "outputs": []
    },
    {
      "cell_type": "code",
      "metadata": {
        "colab": {
          "base_uri": "https://localhost:8080/",
          "height": 374
        },
        "id": "VSd1Bp-taom6",
        "outputId": "82130a93-c326-48c7-e721-0ddc6806e8b1"
      },
      "source": [
        "# generate example dataset\n",
        "X, y = datasets.make_regression(n_samples=100, n_features=1, noise=20, random_state=4)\n",
        "\n",
        "# train-test split\n",
        "X_train, X_test, y_train, y_test = train_test_split(X, y, test_size=0.2, random_state=1234)\n",
        "\n",
        "# plot data samples\n",
        "fig = plt.figure(figsize=(8,6))\n",
        "plt.scatter(X[:, 0], y, color='g', s=30)\n",
        "plt.show()"
      ],
      "execution_count": 23,
      "outputs": [
        {
          "output_type": "display_data",
          "data": {
            "image/png": "[encoded data removed]",
            "text/plain": [
              "<Figure size 576x432 with 1 Axes>"
            ]
          },
          "metadata": {
            "needs_background": "light"
          }
        }
      ]
    },
    {
      "cell_type": "code",
      "metadata": {
        "colab": {
          "base_uri": "https://localhost:8080/"
        },
        "id": "HsED1TWsdCOa",
        "outputId": "09a34013-b641-4d8b-a3f8-4bf28540f70c"
      },
      "source": [
        "print(X_train.shape)\n",
        "print(y_train.shape)"
      ],
      "execution_count": 24,
      "outputs": [
        {
          "output_type": "stream",
          "name": "stdout",
          "text": [
            "(80, 1)\n",
            "(80,)\n"
          ]
        }
      ]
    },
    {
      "cell_type": "markdown",
      "metadata": {
        "id": "w8b-CJiLaLky"
      },
      "source": [
        "### **Linear Regression from scratch**"
      ]
    },
    {
      "cell_type": "code",
      "metadata": {
        "id": "kpYQP9HYaOf2"
      },
      "source": [
        "def r2_score(y_true, y_pred):\n",
        "    corr_matrix = np.corrcoef(y_true, y_pred)\n",
        "    corr = corr_matrix[0, 1]\n",
        "    return corr ** 2"
      ],
      "execution_count": 25,
      "outputs": []
    },
    {
      "cell_type": "code",
      "metadata": {
        "id": "JK2CUhn1aSqV"
      },
      "source": [
        "class LinearRegressionModel:\n",
        "    def __init__(self, learning_rate=0.001, n_iters=1000):\n",
        "        self.lr = learning_rate\n",
        "        self.n_iters = n_iters\n",
        "        self.weights = None\n",
        "        self.bias = None\n",
        "\n",
        "    def fit(self, X, y):\n",
        "        # initialize parameters\n",
        "        n_samples, n_features = X.shape\n",
        "        self.weights = np.zeros(n_features)\n",
        "        self.bias = 0\n",
        "\n",
        "        # gradient descent\n",
        "        for _ in range(self.n_iters):\n",
        "            y_predicted = np.dot(X, self.weights) + self.bias\n",
        "            # compute gradients\n",
        "            dw = (1 / n_samples) * np.dot(X.T, (y_predicted - y))\n",
        "            db = (1 / n_samples) * np.sum(y_predicted - y)\n",
        "\n",
        "            # update parameters\n",
        "            self.weights -= self.lr * dw\n",
        "            self.bias -= self.lr * db\n",
        "\n",
        "    def predict(self, X):\n",
        "        y_approximated = np.dot(X, self.weights) + self.bias\n",
        "        return y_approximated"
      ],
      "execution_count": 28,
      "outputs": []
    },
    {
      "cell_type": "code",
      "metadata": {
        "id": "VyjAOdZpaye-"
      },
      "source": [
        "# train the model\n",
        "regressor = LinearRegressionModel(learning_rate=0.01, n_iters=1000)\n",
        "regressor.fit(X_train, y_train)\n",
        "predictions = regressor.predict(X_test)"
      ],
      "execution_count": 29,
      "outputs": []
    },
    {
      "cell_type": "code",
      "metadata": {
        "colab": {
          "base_uri": "https://localhost:8080/"
        },
        "id": "rqi_qknYaYjE",
        "outputId": "8dd7bf3d-48f5-4b81-ea68-3cdfb907da29"
      },
      "source": [
        "# model evaluation\n",
        "def mean_squared_error(y_true, y_pred):\n",
        "        return np.mean((y_true - y_pred) ** 2)\n",
        "\n",
        "mse = mean_squared_error(y_test, predictions)\n",
        "print('MSE:', round(mse, 2))\n",
        "\n",
        "accuracy = r2_score(y_test, predictions)*100\n",
        "print('Accuracy:', round(accuracy,2), '%')"
      ],
      "execution_count": 30,
      "outputs": [
        {
          "output_type": "stream",
          "name": "stdout",
          "text": [
            "MSE: 305.77\n",
            "Accuracy: 92.54 %\n"
          ]
        }
      ]
    },
    {
      "cell_type": "code",
      "metadata": {
        "colab": {
          "base_uri": "https://localhost:8080/",
          "height": 374
        },
        "id": "bExglUy7a1NC",
        "outputId": "e4808ece-3a59-4c2c-ca39-4cdd492ae976"
      },
      "source": [
        "# best fit line visualization\n",
        "y_pred_line = regressor.predict(X)\n",
        "cmap = plt.get_cmap(\"viridis\")\n",
        "fig = plt.figure(figsize=(8, 6))\n",
        "m1 = plt.scatter(X_train, y_train, color='y', s=30)\n",
        "m2 = plt.scatter(X_test, y_test, color='g', marker='o', s=30)\n",
        "plt.plot(X, y_pred_line, color='black', linewidth=2, label=\"Prediction\")\n",
        "plt.show()"
      ],
      "execution_count": 31,
      "outputs": [
        {
          "output_type": "display_data",
          "data": {
            "image/png": "[encoded data removed]",
            "text/plain": [
              "<Figure size 576x432 with 1 Axes>"
            ]
          },
          "metadata": {
            "needs_background": "light"
          }
        }
      ]
    },
    {
      "cell_type": "markdown",
      "metadata": {
        "id": "0VR8Q-aLflXr"
      },
      "source": [
        "### **Linear Regression using scikit-learn**"
      ]
    },
    {
      "cell_type": "code",
      "metadata": {
        "colab": {
          "base_uri": "https://localhost:8080/"
        },
        "id": "_zNKzowGa9Fq",
        "outputId": "74a4352f-febe-4fc2-d8b1-89c8665dd39f"
      },
      "source": [
        "reg = LinearRegression()\n",
        "reg.fit(X_train, y_train)\n",
        "\n",
        "prediction = reg.predict(X_test)\n",
        "mse = mean_squared_error(y_test, prediction)\n",
        "print('MSE:', round(mse, 2))\n",
        "\n",
        "accuracy = reg.score(X_test,y_test)\n",
        "print('Accuracy:', round(accuracy*100, 2), '%')"
      ],
      "execution_count": 32,
      "outputs": [
        {
          "output_type": "stream",
          "name": "stdout",
          "text": [
            "MSE: 305.77\n",
            "Accuracy: 92.48 %\n"
          ]
        }
      ]
    },
    {
      "cell_type": "code",
      "metadata": {
        "colab": {
          "base_uri": "https://localhost:8080/",
          "height": 374
        },
        "id": "irjadWoifsza",
        "outputId": "463d4eff-0ecc-46ac-9df5-9a97eb4cc500"
      },
      "source": [
        "# best fit line visualization\n",
        "y_pred_line = reg.predict(X)\n",
        "cmap = plt.get_cmap(\"viridis\")\n",
        "fig = plt.figure(figsize=(8, 6))\n",
        "m1 = plt.scatter(X_train, y_train, color='y', s=30)\n",
        "m2 = plt.scatter(X_test, y_test, color='g', marker='o', s=30)\n",
        "plt.plot(X, y_pred_line, color='black', linewidth=2, label=\"Prediction\")\n",
        "plt.show()"
      ],
      "execution_count": 33,
      "outputs": [
        {
          "output_type": "display_data",
          "data": {
            "image/png": "[encoded data removed]",
            "text/plain": [
              "<Figure size 576x432 with 1 Axes>"
            ]
          },
          "metadata": {
            "needs_background": "light"
          }
        }
      ]
    }
  ]
}