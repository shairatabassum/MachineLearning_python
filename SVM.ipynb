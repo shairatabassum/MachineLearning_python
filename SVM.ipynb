{
  "nbformat": 4,
  "nbformat_minor": 0,
  "metadata": {
    "colab": {
      "name": "SVM.ipynb",
      "provenance": [],
      "toc_visible": true,
      "authorship_tag": "ABX9TyMoyeuRBsJ4Z+khWnbkY3Re",
      "include_colab_link": true
    },
    "kernelspec": {
      "name": "python3",
      "display_name": "Python 3"
    },
    "language_info": {
      "name": "python"
    }
  },
  "cells": [
    {
      "cell_type": "markdown",
      "metadata": {
        "id": "view-in-github",
        "colab_type": "text"
      },
      "source": [
        "<a href=\"https://colab.research.google.com/github/shairatabassum/MachineLearning_python/blob/main/SVM.ipynb\" target=\"_parent\"><img src=\"https://colab.research.google.com/assets/colab-badge.svg\" alt=\"Open In Colab\"/></a>"
      ]
    },
    {
      "cell_type": "markdown",
      "metadata": {
        "id": "-mu1qU3xkryD"
      },
      "source": [
        "## **Support Vector Machine (SVM) Algorithm**\n",
        "\n",
        "SVM is a very popular algorithm which uses a linear model to find a **linear decision boundary** or **hyperplane** to separate the data. The choice of the best hyperplane is the one that represents the largest separation in between the two classes. So, the distance from it to the nearest data point on each side is maximized. The hyperplane has to satify the following equation: $w \\times x - b = 0$\n",
        "\n",
        "As the distance has to be maximized on both sides, it follows the equations $w \\times x - b = +1$ and $w \\times x - b = -1$.\n",
        "\n",
        "<br>\n",
        "\n",
        "**Linear Model:**\n",
        "\n",
        "$w \\cdot x - b = 0$\n",
        "\n",
        "$w \\cdot x_i - b \\geq 1$  &nbsp; ---> &nbsp; if $y_i = 1$\n",
        "\n",
        "$w \\cdot x_i - b \\leq -1$  &nbsp; --->  &nbsp; if $y_i = -1$\n",
        "\n",
        "which basically means  &nbsp; ---> &nbsp;  $y_i (w \\cdot x_i - b) \\geq 1$\n",
        "\n",
        "<br>\n",
        "\n",
        "**Cost Function:**\n",
        "\n",
        "Hinge Loss: &nbsp; $l = max(0, 1 - y_i(w \\cdot x_i - b))$\n",
        "\n",
        "<br>\n",
        "\n",
        "**Add Regularization:**\n",
        "\n",
        "$J = \\lambda ||w||^2 + \\frac{1}{n} $$\\sum^{n}_{i=1}$$ max(0, 1 - y_i(w \\cdot x_i - b))$\n",
        "\n",
        "if $y_i \\cdot f(x) \\geq 1:$ &nbsp; $J_i = \\lambda ||w||^2$\n",
        "\n",
        "else: $J_i = \\lambda ||w||^2 + 1 - y_i(w \\cdot x_i - b)$\n",
        "\n",
        "<br>\n",
        "\n",
        "**Gradients:**\n",
        "\n",
        "if $y_i \\cdot f(x) \\geq 1:$ &nbsp; $\\frac{dJ_i}{dw_k} = 2 \\lambda w_k$ &nbsp;&nbsp; and &nbsp;&nbsp; $\\frac{dJ_i}{db} = 0$\n",
        "\n",
        "else: &nbsp; $\\frac{dJ_i}{dw_k} = 2 \\lambda w_k - y_i \\cdot x_i$ &nbsp;&nbsp; and &nbsp;&nbsp; $\\frac{dJ_i}{db} = y_i$\n",
        "\n",
        "<br>\n",
        "\n",
        "**Update Rule:**\n",
        "\n",
        "For each training sample $x_i$:\n",
        "\n",
        "$w = w - \\alpha \\cdot dw$\n",
        "\n",
        "$b = b - \\alpha \\cdot db$\n"
      ]
    },
    {
      "cell_type": "markdown",
      "metadata": {
        "id": "Rod3uXBKHVm5"
      },
      "source": [
        "### **Import Dataset**"
      ]
    },
    {
      "cell_type": "code",
      "metadata": {
        "id": "dtcBen7RklHG"
      },
      "source": [
        "# import libraries\n",
        "import numpy as np\n",
        "from sklearn import datasets\n",
        "import matplotlib.pyplot as plt\n",
        "from sklearn.model_selection import train_test_split\n",
        "from sklearn.metrics import classification_report, confusion_matrix\n",
        "import seaborn as sns\n",
        "from sklearn.svm import SVC\n",
        "import sklearn"
      ],
      "execution_count": 1,
      "outputs": []
    },
    {
      "cell_type": "code",
      "metadata": {
        "colab": {
          "base_uri": "https://localhost:8080/"
        },
        "id": "DtFabMGLHupE",
        "outputId": "ec589e2a-2836-419d-feb5-fb7bf866bf0c"
      },
      "source": [
        "# load dataset\n",
        "X, y = datasets.make_blobs(n_samples=100, n_features=2, centers=2, cluster_std=1.05, random_state=40)\n",
        "y = np.where(y == 0, -1, 1)\n",
        "\n",
        "# train-test split\n",
        "X_train, X_test, y_train, y_test = train_test_split(X, y, test_size=0.2, random_state=1234)\n",
        "\n",
        "# print data samples\n",
        "print('X: ', X_train.shape)\n",
        "print('Sample of X:', X_train[0])\n",
        "print('y: ', y_train.shape)\n",
        "print('Sample of y:', y_train[0])"
      ],
      "execution_count": 19,
      "outputs": [
        {
          "output_type": "stream",
          "name": "stdout",
          "text": [
            "X:  (80, 2)\n",
            "Sample of X: [ -0.40825547 -10.68054719]\n",
            "y:  (80,)\n",
            "Sample of y: -1\n"
          ]
        }
      ]
    },
    {
      "cell_type": "code",
      "metadata": {
        "colab": {
          "base_uri": "https://localhost:8080/",
          "height": 374
        },
        "id": "cV26Q7AVH6TI",
        "outputId": "99d75597-df99-4f54-a26e-1fd461e33a36"
      },
      "source": [
        "# plot data samples\n",
        "fig = plt.figure(figsize=(8,6))\n",
        "plt.scatter(X[:, 0], y, color='g', s=30)\n",
        "plt.show()"
      ],
      "execution_count": 22,
      "outputs": [
        {
          "output_type": "display_data",
          "data": {
            "image/png": "[encoded data removed]",
            "text/plain": [
              "<Figure size 576x432 with 1 Axes>"
            ]
          },
          "metadata": {
            "needs_background": "light"
          }
        }
      ]
    },
    {
      "cell_type": "markdown",
      "metadata": {
        "id": "cQTBNi3JHXSy"
      },
      "source": [
        "### **SVM from scratch**"
      ]
    },
    {
      "cell_type": "code",
      "metadata": {
        "id": "d6y11SjTHaLs"
      },
      "source": [
        "class SVM:\n",
        "    def __init__(self, learning_rate=0.001, lambda_param=0.01, n_iters=1000):\n",
        "        self.lr = learning_rate\n",
        "        self.lambda_param = lambda_param\n",
        "        self.n_iters = n_iters\n",
        "        self.w = None\n",
        "        self.b = None\n",
        "\n",
        "    def fit(self, X, y):\n",
        "        n_samples, n_features = X.shape\n",
        "\n",
        "        y_ = np.where(y <= 0, -1, 1)\n",
        "\n",
        "        self.w = np.zeros(n_features)\n",
        "        self.b = 0\n",
        "\n",
        "        for _ in range(self.n_iters):\n",
        "            for idx, x_i in enumerate(X):\n",
        "                condition = y_[idx] * (np.dot(x_i, self.w) - self.b) >= 1\n",
        "                if condition:\n",
        "                    self.w -= self.lr * (2 * self.lambda_param * self.w)\n",
        "                else:\n",
        "                    self.w -= self.lr * (\n",
        "                        2 * self.lambda_param * self.w - np.dot(x_i, y_[idx])\n",
        "                    )\n",
        "                    self.b -= self.lr * y_[idx]\n",
        "\n",
        "    def predict(self, X):\n",
        "        approx = np.dot(X, self.w) - self.b\n",
        "        return np.sign(approx)"
      ],
      "execution_count": 23,
      "outputs": []
    },
    {
      "cell_type": "code",
      "metadata": {
        "colab": {
          "base_uri": "https://localhost:8080/"
        },
        "id": "k155Ww_oHlzl",
        "outputId": "1bd6364c-f9e8-4f42-9d0a-4eec73a1b46d"
      },
      "source": [
        "# train the model\n",
        "clf = SVM()\n",
        "clf.fit(X_train, y_train)\n",
        "predictions = clf.predict(X_test)\n",
        "\n",
        "# model accuracy\n",
        "accuracy = np.sum(y_test == predictions) / len(y_test)\n",
        "print('Accuracy', accuracy*100, '%')"
      ],
      "execution_count": 24,
      "outputs": [
        {
          "output_type": "stream",
          "name": "stdout",
          "text": [
            "Accuracy 100.0 %\n"
          ]
        }
      ]
    },
    {
      "cell_type": "code",
      "metadata": {
        "colab": {
          "base_uri": "https://localhost:8080/",
          "height": 264
        },
        "id": "a4OpQCkvIX1o",
        "outputId": "6e42bc1d-143b-49b2-c091-4a4157fef2ba"
      },
      "source": [
        "def visualize_svm():\n",
        "  def get_hyperplane_value(x, w, b, offset):\n",
        "    return (-w[0] * x + b + offset) / w[1]\n",
        "\n",
        "  fig = plt.figure()\n",
        "  ax = fig.add_subplot(1, 1, 1)\n",
        "  plt.scatter(X[:, 0], X[:, 1], marker=\"o\", c=y)\n",
        "\n",
        "  x0_1 = np.amin(X[:, 0])\n",
        "  x0_2 = np.amax(X[:, 0])\n",
        "\n",
        "  x1_1 = get_hyperplane_value(x0_1, clf.w, clf.b, 0)\n",
        "  x1_2 = get_hyperplane_value(x0_2, clf.w, clf.b, 0)\n",
        "\n",
        "  x1_1_m = get_hyperplane_value(x0_1, clf.w, clf.b, -1)\n",
        "  x1_2_m = get_hyperplane_value(x0_2, clf.w, clf.b, -1)\n",
        "\n",
        "  x1_1_p = get_hyperplane_value(x0_1, clf.w, clf.b, 1)\n",
        "  x1_2_p = get_hyperplane_value(x0_2, clf.w, clf.b, 1)\n",
        "\n",
        "  ax.plot([x0_1, x0_2], [x1_1, x1_2], \"y--\")\n",
        "  ax.plot([x0_1, x0_2], [x1_1_m, x1_2_m], \"k\")\n",
        "  ax.plot([x0_1, x0_2], [x1_1_p, x1_2_p], \"k\")\n",
        "\n",
        "  x1_min = np.amin(X[:, 1])\n",
        "  x1_max = np.amax(X[:, 1])\n",
        "  ax.set_ylim([x1_min - 3, x1_max + 3])\n",
        "\n",
        "  plt.show()\n",
        "\n",
        "visualize_svm()"
      ],
      "execution_count": 25,
      "outputs": [
        {
          "output_type": "display_data",
          "data": {
            "image/png": "[encoded data removed]",
            "text/plain": [
              "<Figure size 432x288 with 1 Axes>"
            ]
          },
          "metadata": {
            "needs_background": "light"
          }
        }
      ]
    },
    {
      "cell_type": "code",
      "metadata": {
        "colab": {
          "base_uri": "https://localhost:8080/"
        },
        "id": "xr8abklrIb09",
        "outputId": "218e76ee-60e8-4610-e7cf-d6d51c430bf9"
      },
      "source": [
        "# classification report\n",
        "print(classification_report(y, clf.predict(X)))"
      ],
      "execution_count": 26,
      "outputs": [
        {
          "output_type": "stream",
          "name": "stdout",
          "text": [
            "              precision    recall  f1-score   support\n",
            "\n",
            "          -1       1.00      1.00      1.00        50\n",
            "           1       1.00      1.00      1.00        50\n",
            "\n",
            "    accuracy                           1.00       100\n",
            "   macro avg       1.00      1.00      1.00       100\n",
            "weighted avg       1.00      1.00      1.00       100\n",
            "\n"
          ]
        }
      ]
    },
    {
      "cell_type": "code",
      "metadata": {
        "colab": {
          "base_uri": "https://localhost:8080/",
          "height": 282
        },
        "id": "j8B_FTXUJTBw",
        "outputId": "113121b4-ee0a-412f-ea35-ffafd059033a"
      },
      "source": [
        "# confusion matrix\n",
        "sns.heatmap(confusion_matrix(y_test, predictions), annot=True)"
      ],
      "execution_count": 27,
      "outputs": [
        {
          "output_type": "execute_result",
          "data": {
            "text/plain": [
              "<matplotlib.axes._subplots.AxesSubplot at 0x7efbfcf66550>"
            ]
          },
          "metadata": {},
          "execution_count": 27
        },
        {
          "output_type": "display_data",
          "data": {
            "image/png": "[encoded data removed]",
            "text/plain": [
              "<Figure size 432x288 with 2 Axes>"
            ]
          },
          "metadata": {
            "needs_background": "light"
          }
        }
      ]
    },
    {
      "cell_type": "markdown",
      "metadata": {
        "id": "zJ9IabR4JloF"
      },
      "source": [
        "### **SVM using scikit-learn**"
      ]
    },
    {
      "cell_type": "code",
      "metadata": {
        "colab": {
          "base_uri": "https://localhost:8080/"
        },
        "id": "9cneJvfeJZWw",
        "outputId": "7b6d1335-242e-4715-9fdc-078de072dd80"
      },
      "source": [
        "# train the model\n",
        "svm = SVC(gamma='auto', kernel='linear')\n",
        "svm.fit(X_train, y_train)\n",
        "y_pred = svm.predict(X_test)\n",
        "\n",
        "# model accuracy\n",
        "accuracy = sklearn.metrics.accuracy_score(y_test, y_pred)\n",
        "accuracy = accuracy*100\n",
        "print('Accuracy:', round(accuracy, 2), '%.')"
      ],
      "execution_count": 28,
      "outputs": [
        {
          "output_type": "stream",
          "name": "stdout",
          "text": [
            "Accuracy: 100.0 %.\n"
          ]
        }
      ]
    },
    {
      "cell_type": "code",
      "metadata": {
        "colab": {
          "base_uri": "https://localhost:8080/"
        },
        "id": "d9Emt4PCJ7JL",
        "outputId": "ebcdcf69-2e34-4537-81cc-ef99d6b8563c"
      },
      "source": [
        "# classification report\n",
        "print(classification_report(y, svm.predict(X)))"
      ],
      "execution_count": 29,
      "outputs": [
        {
          "output_type": "stream",
          "name": "stdout",
          "text": [
            "              precision    recall  f1-score   support\n",
            "\n",
            "          -1       1.00      1.00      1.00        50\n",
            "           1       1.00      1.00      1.00        50\n",
            "\n",
            "    accuracy                           1.00       100\n",
            "   macro avg       1.00      1.00      1.00       100\n",
            "weighted avg       1.00      1.00      1.00       100\n",
            "\n"
          ]
        }
      ]
    },
    {
      "cell_type": "code",
      "metadata": {
        "colab": {
          "base_uri": "https://localhost:8080/",
          "height": 282
        },
        "id": "pjPR5PfXJ_X-",
        "outputId": "848fc67e-3bc0-48c6-bdfc-955fdf00152e"
      },
      "source": [
        "# confusion matrix\n",
        "sns.heatmap(confusion_matrix(y_test, y_pred), annot=True)"
      ],
      "execution_count": 30,
      "outputs": [
        {
          "output_type": "execute_result",
          "data": {
            "text/plain": [
              "<matplotlib.axes._subplots.AxesSubplot at 0x7efbfce6b350>"
            ]
          },
          "metadata": {},
          "execution_count": 30
        },
        {
          "output_type": "display_data",
          "data": {
            "image/png": "[encoded data removed]",
            "text/plain": [
              "<Figure size 432x288 with 2 Axes>"
            ]
          },
          "metadata": {
            "needs_background": "light"
          }
        }
      ]
    }
  ]
}