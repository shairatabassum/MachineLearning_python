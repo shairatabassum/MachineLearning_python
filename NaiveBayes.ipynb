{
  "nbformat": 4,
  "nbformat_minor": 0,
  "metadata": {
    "colab": {
      "name": "NaiveBayes.ipynb",
      "provenance": [],
      "toc_visible": true,
      "authorship_tag": "ABX9TyMqiVa0uRtZAt6M851NcGUL",
      "include_colab_link": true
    },
    "kernelspec": {
      "name": "python3",
      "display_name": "Python 3"
    },
    "language_info": {
      "name": "python"
    }
  },
  "cells": [
    {
      "cell_type": "markdown",
      "metadata": {
        "id": "view-in-github",
        "colab_type": "text"
      },
      "source": [
        "<a href=\"https://colab.research.google.com/github/shairatabassum/MachineLearning_python/blob/main/NaiveBayes.ipynb\" target=\"_parent\"><img src=\"https://colab.research.google.com/assets/colab-badge.svg\" alt=\"Open In Colab\"/></a>"
      ]
    },
    {
      "cell_type": "markdown",
      "metadata": {
        "id": "Z-MXJ-A-oV7a"
      },
      "source": [
        "# **Naive Bayes Classifier**\n",
        "\n",
        "The **Naive Bayes Classifier** is based on the **Bayes Theorem** which states that,\n",
        "\n",
        "$P(A|B) = \\frac{P(B|A) \\cdot P(A)}{P(B)}$\n",
        "\n",
        "So, if this theorem is applied to independent variable **X** and dependent variable **y**, then,\n",
        "\n",
        "$P(y|X) = \\frac{P(X|y) \\cdot P(t)}{P(X)}$, where **X** is a feature vector $(x_1, x_2, x_3, ..., x_n)$\n",
        "\n",
        "**Characteristics:**\n",
        "*  In Naive Bayes, all the features are mutually independent. For example, **y** = whether a person will go out to take a walk depends on $x_1$ = the sun is shining and $x_2$ = the person is healthy. Here, both the features $x_1$ and $x_2$ are mutually independent but they equally contribute to calculate the probability of output **y**.\n",
        "*  $P(y|X)$ is called **posterior probability**, $P(x_n|y)$ is called **class conditional probability**, **P(y)** is called the **prior probability** of y and P(X) is called the **prior probability** of X. \n",
        "*  Given the **posterior probability**, the naive bayes classifier selects the class with the highest probability.\n",
        "\n",
        "$y = argmax_y P(y|X)$\n",
        "\n",
        "$y = argmax_y \\frac{P(x_1|y) \\cdot P(x_2|y) \\cdot ... \\cdot P(x_n|y) \\cdot P(y)}{P(X)}$\n",
        "\n",
        "$y = argmax_y P(x_1|y) \\cdot P(x_2|y) \\cdot ... \\cdot P(x_n|y) \\cdot P(y)$\n",
        "\n",
        "Since all the probability values will be between 0 and 1, multiplying a lot of such values will be a very small number. This might create an overflow problem which can be prevented by using **log** functions.\n",
        "\n",
        "$y = argmax_y \\log(P(x_1|y)) + \\log(P(x_2|y)) + ... + \\log(P(x_n|y)) + \\log(P(y))$"
      ]
    },
    {
      "cell_type": "markdown",
      "metadata": {
        "id": "mbwRfuGg3cV_"
      },
      "source": [
        "The **class conditional probability** can be calculated using a **Gaussian Distribution**. \n",
        "\n",
        "$ P(x_i|y) = {\\frac{1}{\\sqrt{2 \\pi \\sigma^2_y}} \\cdot \\exp (- \\frac{(x_i - \\mu_y)^2}{2 \\sigma^2_y})}$"
      ]
    },
    {
      "cell_type": "markdown",
      "metadata": {
        "id": "mzK8CQfz5AFq"
      },
      "source": [
        "### **Import Dataset**"
      ]
    },
    {
      "cell_type": "code",
      "metadata": {
        "id": "D65S5NYOeq3Z"
      },
      "source": [
        "# importing libraries\n",
        "import numpy as np\n",
        "import matplotlib.pyplot as plt\n",
        "from sklearn.model_selection import train_test_split\n",
        "from sklearn.metrics import classification_report, confusion_matrix\n",
        "from sklearn import datasets\n",
        "import seaborn as sns\n",
        "import sklearn\n",
        "from sklearn.naive_bayes import GaussianNB, BernoulliNB, MultinomialNB"
      ],
      "execution_count": 116,
      "outputs": []
    },
    {
      "cell_type": "code",
      "metadata": {
        "colab": {
          "base_uri": "https://localhost:8080/"
        },
        "id": "qpC8NTmd5VYE",
        "outputId": "5a3b7c64-e861-425c-d120-bbdaf3f06374"
      },
      "source": [
        "# load dataset\n",
        "X, y = datasets.make_classification(n_samples=1000, n_features=10, n_classes=2, random_state=123)\n",
        "\n",
        "# train-test split\n",
        "X_train, X_test, y_train, y_test = train_test_split(X, y, test_size=0.2, random_state=123)\n",
        "\n",
        "# print data samples\n",
        "print('X: ', X_train.shape)\n",
        "print('Sample of X:', X_train[0])\n",
        "print('y: ', y_train.shape)\n",
        "print('Sample of y:', y_train[0])"
      ],
      "execution_count": 117,
      "outputs": [
        {
          "output_type": "stream",
          "name": "stdout",
          "text": [
            "X:  (800, 10)\n",
            "Sample of X: [-0.63950524 -0.23584751 -0.28840218  0.86825272 -1.15544241 -0.71766427\n",
            " -0.51608355 -0.68415371  1.18943464 -0.31669551]\n",
            "y:  (800,)\n",
            "Sample of y: 1\n"
          ]
        }
      ]
    },
    {
      "cell_type": "code",
      "metadata": {
        "colab": {
          "base_uri": "https://localhost:8080/",
          "height": 374
        },
        "id": "SfY2QYFU5hm7",
        "outputId": "3bbc7735-f41c-4305-f1a5-285e1391f1be"
      },
      "source": [
        "# plot data samples\n",
        "fig = plt.figure(figsize=(8,6))\n",
        "plt.scatter(X[:, 0], y, color='g', s=30)\n",
        "plt.show()"
      ],
      "execution_count": 118,
      "outputs": [
        {
          "output_type": "display_data",
          "data": {
            "image/png": "[encoded data removed]",
            "text/plain": [
              "<Figure size 576x432 with 1 Axes>"
            ]
          },
          "metadata": {
            "needs_background": "light"
          }
        }
      ]
    },
    {
      "cell_type": "markdown",
      "metadata": {
        "id": "NSzjVqC15JK_"
      },
      "source": [
        "### **Naive Bayes Classifier from scratch**"
      ]
    },
    {
      "cell_type": "code",
      "metadata": {
        "id": "dP52wzgI3b5q"
      },
      "source": [
        "class NaiveBayesModel:\n",
        "    def fit(self, X, y):\n",
        "        n_samples, n_features = X.shape\n",
        "        self._classes = np.unique(y)\n",
        "        n_classes = len(self._classes)\n",
        "\n",
        "        # calculate mean, var, and prior for each class\n",
        "        self._mean = np.zeros((n_classes, n_features), dtype=np.float64)\n",
        "        self._var = np.zeros((n_classes, n_features), dtype=np.float64)\n",
        "        self._priors = np.zeros(n_classes, dtype=np.float64)\n",
        "\n",
        "        for idx, c in enumerate(self._classes):\n",
        "            X_c = X[y == c]\n",
        "            self._mean[idx, :] = X_c.mean(axis=0)\n",
        "            self._var[idx, :] = X_c.var(axis=0)\n",
        "            self._priors[idx] = X_c.shape[0] / float(n_samples)\n",
        "\n",
        "    def predict(self, X):\n",
        "        y_pred = [self._predict(x) for x in X]\n",
        "        return np.array(y_pred)\n",
        "\n",
        "    def _predict(self, x):\n",
        "        posteriors = []\n",
        "\n",
        "        # calculate posterior probability for each class\n",
        "        for idx, c in enumerate(self._classes):\n",
        "            prior = np.log(self._priors[idx])\n",
        "            posterior = np.sum(np.log(self._pdf(idx, x)))\n",
        "            posterior = prior + posterior\n",
        "            posteriors.append(posterior)\n",
        "\n",
        "        # return class with highest posterior probability\n",
        "        return self._classes[np.argmax(posteriors)]\n",
        "\n",
        "    def _pdf(self, class_idx, x):\n",
        "        mean = self._mean[class_idx]\n",
        "        var = self._var[class_idx]\n",
        "        numerator = np.exp(-((x - mean) ** 2) / (2 * var))\n",
        "        denominator = np.sqrt(2 * np.pi * var)\n",
        "        return numerator / denominator"
      ],
      "execution_count": 119,
      "outputs": []
    },
    {
      "cell_type": "code",
      "metadata": {
        "id": "5IRy8ugz51ex"
      },
      "source": [
        "# train the model\n",
        "nb = NaiveBayesModel()\n",
        "nb.fit(X_train, y_train)\n",
        "predictions = nb.predict(X_test)"
      ],
      "execution_count": 120,
      "outputs": []
    },
    {
      "cell_type": "code",
      "metadata": {
        "colab": {
          "base_uri": "https://localhost:8080/"
        },
        "id": "ScqJJgTm5QVv",
        "outputId": "a3173d5d-0353-48bb-d06c-16bebb2aa7cd"
      },
      "source": [
        "# model accuracy\n",
        "def accuracy(y_true, y_pred):\n",
        "  accuracy = np.sum(y_true == y_pred) / len(y_true)\n",
        "  return accuracy\n",
        "\n",
        "print('Accuracy: ', round(accuracy(y_test, predictions)*100, 2), '%')"
      ],
      "execution_count": 121,
      "outputs": [
        {
          "output_type": "stream",
          "name": "stdout",
          "text": [
            "Accuracy:  96.5 %\n"
          ]
        }
      ]
    },
    {
      "cell_type": "code",
      "metadata": {
        "colab": {
          "base_uri": "https://localhost:8080/",
          "height": 282
        },
        "id": "6njnPkxE5QnX",
        "outputId": "310bf700-63d2-4081-a223-2dcb1233690b"
      },
      "source": [
        "# confusion matrix\n",
        "sns.heatmap(confusion_matrix(y_test, predictions), annot=True)"
      ],
      "execution_count": 122,
      "outputs": [
        {
          "output_type": "execute_result",
          "data": {
            "text/plain": [
              "<matplotlib.axes._subplots.AxesSubplot at 0x7f329cb928d0>"
            ]
          },
          "metadata": {},
          "execution_count": 122
        },
        {
          "output_type": "display_data",
          "data": {
            "image/png": "[encoded data removed]",
            "text/plain": [
              "<Figure size 432x288 with 2 Axes>"
            ]
          },
          "metadata": {
            "needs_background": "light"
          }
        }
      ]
    },
    {
      "cell_type": "code",
      "metadata": {
        "colab": {
          "base_uri": "https://localhost:8080/"
        },
        "id": "3U6ciJXK6H70",
        "outputId": "925fd3fb-85e3-4d0d-b27e-ecbc67f6531c"
      },
      "source": [
        "# classification report\n",
        "print(classification_report(y, nb.predict(X)))"
      ],
      "execution_count": 123,
      "outputs": [
        {
          "output_type": "stream",
          "name": "stdout",
          "text": [
            "              precision    recall  f1-score   support\n",
            "\n",
            "           0       0.94      0.97      0.95       502\n",
            "           1       0.97      0.93      0.95       498\n",
            "\n",
            "    accuracy                           0.95      1000\n",
            "   macro avg       0.95      0.95      0.95      1000\n",
            "weighted avg       0.95      0.95      0.95      1000\n",
            "\n"
          ]
        }
      ]
    },
    {
      "cell_type": "markdown",
      "metadata": {
        "id": "ZCPS2TkG6-PU"
      },
      "source": [
        "### **Naive Bayes Classifier using scikit-learn**"
      ]
    },
    {
      "cell_type": "markdown",
      "metadata": {
        "id": "q0mJfkSlBE8z"
      },
      "source": [
        "**Gaussian Naive Bayes:** A variant of Naive Bayes which uses Gaussian Distribution. It performs best while dealing with continuous data."
      ]
    },
    {
      "cell_type": "code",
      "metadata": {
        "colab": {
          "base_uri": "https://localhost:8080/"
        },
        "id": "xQ54AmgE6Wlp",
        "outputId": "f111fa28-44be-4112-cb5f-e1d0af547c7a"
      },
      "source": [
        "gnb = GaussianNB()\n",
        "gnb.fit(X_train, y_train)\n",
        "y_pred = gnb.predict(X_test)\n",
        "\n",
        "accuracy = sklearn.metrics.accuracy_score(y_test, y_pred)\n",
        "print('Accuracy:', round(accuracy*100, 2), '%')"
      ],
      "execution_count": 124,
      "outputs": [
        {
          "output_type": "stream",
          "name": "stdout",
          "text": [
            "Accuracy: 96.5 %\n"
          ]
        }
      ]
    },
    {
      "cell_type": "code",
      "metadata": {
        "colab": {
          "base_uri": "https://localhost:8080/",
          "height": 282
        },
        "id": "LHp47vdu_gD1",
        "outputId": "4a4e1080-532d-4d07-aec1-14f55c834f8c"
      },
      "source": [
        "# confusion matrix\n",
        "sns.heatmap(confusion_matrix(y_test, y_pred), annot=True)"
      ],
      "execution_count": 125,
      "outputs": [
        {
          "output_type": "execute_result",
          "data": {
            "text/plain": [
              "<matplotlib.axes._subplots.AxesSubplot at 0x7f329cb694d0>"
            ]
          },
          "metadata": {},
          "execution_count": 125
        },
        {
          "output_type": "display_data",
          "data": {
            "image/png": "[encoded data removed]",
            "text/plain": [
              "<Figure size 432x288 with 2 Axes>"
            ]
          },
          "metadata": {
            "needs_background": "light"
          }
        }
      ]
    },
    {
      "cell_type": "code",
      "metadata": {
        "colab": {
          "base_uri": "https://localhost:8080/"
        },
        "id": "ounScVrl_c-Q",
        "outputId": "4f708882-188c-4e2c-9fd4-9801ee945664"
      },
      "source": [
        "# classification report\n",
        "print(classification_report(y, gnb.predict(X)))"
      ],
      "execution_count": 126,
      "outputs": [
        {
          "output_type": "stream",
          "name": "stdout",
          "text": [
            "              precision    recall  f1-score   support\n",
            "\n",
            "           0       0.94      0.97      0.95       502\n",
            "           1       0.97      0.93      0.95       498\n",
            "\n",
            "    accuracy                           0.95      1000\n",
            "   macro avg       0.95      0.95      0.95      1000\n",
            "weighted avg       0.95      0.95      0.95      1000\n",
            "\n"
          ]
        }
      ]
    },
    {
      "cell_type": "markdown",
      "metadata": {
        "id": "XhXLAMPxBCih"
      },
      "source": [
        "**Bernoulli Naive Bayes:** Another variant of Naive Bayes which is basically used for discrete data, where features are only in binary form."
      ]
    },
    {
      "cell_type": "code",
      "metadata": {
        "colab": {
          "base_uri": "https://localhost:8080/"
        },
        "id": "h-pb7Hic7Mcu",
        "outputId": "554801f2-1820-422e-fe30-5c4dbf4c2f18"
      },
      "source": [
        "bnb = BernoulliNB()\n",
        "bnb.fit(X_train, y_train)\n",
        "y_pred = bnb.predict(X_test)\n",
        "\n",
        "accuracy = sklearn.metrics.accuracy_score(y_test, y_pred)\n",
        "print('Accuracy:', round(accuracy*100, 2), '%')"
      ],
      "execution_count": 127,
      "outputs": [
        {
          "output_type": "stream",
          "name": "stdout",
          "text": [
            "Accuracy: 95.0 %\n"
          ]
        }
      ]
    },
    {
      "cell_type": "code",
      "metadata": {
        "colab": {
          "base_uri": "https://localhost:8080/",
          "height": 282
        },
        "id": "Z1ILGRF5_qBR",
        "outputId": "6f36c54b-f54e-42bb-e177-1761cc284101"
      },
      "source": [
        "# confusion matrix\n",
        "sns.heatmap(confusion_matrix(y_test, y_pred), annot=True)"
      ],
      "execution_count": 128,
      "outputs": [
        {
          "output_type": "execute_result",
          "data": {
            "text/plain": [
              "<matplotlib.axes._subplots.AxesSubplot at 0x7f32a1366e90>"
            ]
          },
          "metadata": {},
          "execution_count": 128
        },
        {
          "output_type": "display_data",
          "data": {
            "image/png": "[encoded data removed]",
            "text/plain": [
              "<Figure size 432x288 with 2 Axes>"
            ]
          },
          "metadata": {
            "needs_background": "light"
          }
        }
      ]
    },
    {
      "cell_type": "code",
      "metadata": {
        "colab": {
          "base_uri": "https://localhost:8080/"
        },
        "id": "i0hxb5PeABaO",
        "outputId": "95b77e33-b402-41c3-8c44-9eb3a83fd36f"
      },
      "source": [
        "# classification report\n",
        "print(classification_report(y, bnb.predict(X)))"
      ],
      "execution_count": 129,
      "outputs": [
        {
          "output_type": "stream",
          "name": "stdout",
          "text": [
            "              precision    recall  f1-score   support\n",
            "\n",
            "           0       0.93      0.97      0.95       502\n",
            "           1       0.96      0.92      0.94       498\n",
            "\n",
            "    accuracy                           0.94      1000\n",
            "   macro avg       0.94      0.94      0.94      1000\n",
            "weighted avg       0.94      0.94      0.94      1000\n",
            "\n"
          ]
        }
      ]
    },
    {
      "cell_type": "markdown",
      "metadata": {
        "id": "B5TxirOyA2h5"
      },
      "source": [
        "**Multinomial Naive Bayes:** A variant of Naive Bayes which considers a feature vector where a given term represents the number of times it appears or very often i.e. frequency.  It is a widely used classifier for document classification which keeps the count of frequent words present in the documents. It may lead to poor performance while dealing with binary classification problems."
      ]
    },
    {
      "cell_type": "code",
      "metadata": {
        "colab": {
          "base_uri": "https://localhost:8080/"
        },
        "id": "nuY3wW-l_B-E",
        "outputId": "5a417021-e42a-4362-a108-20a32c34d4eb"
      },
      "source": [
        "X_train = np.where(X_train > 0.0, X_train, X_train*(-1.0))\n",
        "X_test = np.where(X_test > 0.0, X_test, X_test*(-1.0))\n",
        "\n",
        "mnb = MultinomialNB()\n",
        "mnb.fit(X_train, y_train)\n",
        "y_pred = mnb.predict(X_test)\n",
        "\n",
        "accuracy = sklearn.metrics.accuracy_score(y_test, y_pred)\n",
        "print('Accuracy:', round(accuracy*100, 2), '%')"
      ],
      "execution_count": 130,
      "outputs": [
        {
          "output_type": "stream",
          "name": "stdout",
          "text": [
            "Accuracy: 60.5 %\n"
          ]
        }
      ]
    },
    {
      "cell_type": "code",
      "metadata": {
        "colab": {
          "base_uri": "https://localhost:8080/",
          "height": 282
        },
        "id": "OOKe4qMb_uFr",
        "outputId": "1c8f0a37-1c97-4263-ff80-f004caa69f36"
      },
      "source": [
        "# confusion matrix\n",
        "sns.heatmap(confusion_matrix(y_test, y_pred), annot=True)"
      ],
      "execution_count": 131,
      "outputs": [
        {
          "output_type": "execute_result",
          "data": {
            "text/plain": [
              "<matplotlib.axes._subplots.AxesSubplot at 0x7f329ca7f790>"
            ]
          },
          "metadata": {},
          "execution_count": 131
        },
        {
          "output_type": "display_data",
          "data": {
            "image/png": "[encoded data removed]",
            "text/plain": [
              "<Figure size 432x288 with 2 Axes>"
            ]
          },
          "metadata": {
            "needs_background": "light"
          }
        }
      ]
    },
    {
      "cell_type": "code",
      "metadata": {
        "colab": {
          "base_uri": "https://localhost:8080/"
        },
        "id": "OVJkd1L2AEbv",
        "outputId": "a274b733-1d20-4f49-973f-af5687e6bc90"
      },
      "source": [
        "# classification report\n",
        "print(classification_report(y, mnb.predict(X)))"
      ],
      "execution_count": 132,
      "outputs": [
        {
          "output_type": "stream",
          "name": "stdout",
          "text": [
            "              precision    recall  f1-score   support\n",
            "\n",
            "           0       0.51      0.57      0.54       502\n",
            "           1       0.51      0.45      0.47       498\n",
            "\n",
            "    accuracy                           0.51      1000\n",
            "   macro avg       0.51      0.51      0.51      1000\n",
            "weighted avg       0.51      0.51      0.51      1000\n",
            "\n"
          ]
        }
      ]
    }
  ]
}