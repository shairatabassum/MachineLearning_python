{
  "nbformat": 4,
  "nbformat_minor": 0,
  "metadata": {
    "colab": {
      "name": "Perceptron.ipynb",
      "provenance": [],
      "toc_visible": true,
      "authorship_tag": "ABX9TyOYBbr7qmEt4pwSY+nFn3Jz",
      "include_colab_link": true
    },
    "kernelspec": {
      "name": "python3",
      "display_name": "Python 3"
    },
    "language_info": {
      "name": "python"
    }
  },
  "cells": [
    {
      "cell_type": "markdown",
      "metadata": {
        "id": "view-in-github",
        "colab_type": "text"
      },
      "source": [
        "<a href=\"https://colab.research.google.com/github/shairatabassum/MachineLearning_python/blob/main/Perceptron.ipynb\" target=\"_parent\"><img src=\"https://colab.research.google.com/assets/colab-badge.svg\" alt=\"Open In Colab\"/></a>"
      ]
    },
    {
      "cell_type": "markdown",
      "metadata": {
        "id": "i2KYbu5GMkKt"
      },
      "source": [
        "# **Perceptron**\n",
        "\n",
        "The Perceptron can be seen as one single unit of an **Artificial Neural Network (ANN)**. A perceptron is a simplified model of a biological neuron and it simulates the behavior of only one cell. \n",
        "\n",
        "Each cell receives an input. All these received signals are then weighted and summed up. If this summation reaches a certain threshold, then the cell delivers an output.\n",
        "\n",
        "So, there are some intput features $(x_0, x_1, x_2, ..., x_m)$ which are multiplied by some weights $(w_0, w_1, w_2, ..., w_m)$ and then summed up $($$\\sum$$)$. Then, an activation function is applied on the summation to get the final output class $(y)$. \n",
        "\n",
        "\n",
        "**Linear Model:** $f(w,b) = w^Tx +b$\n",
        "\n",
        "**Activation Function:** g(z) = 1 if z $\\geq \\theta$, 0 otherwise\n",
        "\n",
        "**Approximation:** $\\hat{y} = g(f(w,b)) = g(w^Tx + b)$\n",
        "\n",
        "**Perceptron update rule:** For each training sample $x_i$:\n",
        "  *  $w := w + \\Delta w $\n",
        "  *  $\\Delta w := \\alpha \\cdot (y_i - \\hat{y_i}) \\cdot x_i$\n",
        "  *  $\\alpha:$ learning rate in $[0, 1]$"
      ]
    },
    {
      "cell_type": "markdown",
      "metadata": {
        "id": "H5Ebsz-IjO43"
      },
      "source": [
        "### **Import Dataset**"
      ]
    },
    {
      "cell_type": "code",
      "metadata": {
        "id": "ZXWCNSv8EcNy"
      },
      "source": [
        "# importing libraries\n",
        "import numpy as np\n",
        "import matplotlib.pyplot as plt\n",
        "import sklearn\n",
        "from sklearn.model_selection import train_test_split\n",
        "from sklearn import datasets\n",
        "from sklearn.metrics import classification_report, confusion_matrix\n",
        "import seaborn as sns\n",
        "from sklearn.linear_model import Perceptron"
      ],
      "execution_count": 1,
      "outputs": []
    },
    {
      "cell_type": "code",
      "metadata": {
        "colab": {
          "base_uri": "https://localhost:8080/"
        },
        "id": "6o1S43pJjjd8",
        "outputId": "aa834c88-0a89-42eb-9c9f-e1c5be4a96c2"
      },
      "source": [
        "# load dataset\n",
        "X, y = datasets.make_blobs(n_samples=150, n_features=2, centers=2, cluster_std=1.05, random_state=2)\n",
        "\n",
        "# train-test split\n",
        "X_train, X_test, y_train, y_test = train_test_split(X, y, test_size=0.2, random_state=123)\n",
        "\n",
        "# print data samples\n",
        "print('X: ', X_train.shape)\n",
        "print('Sample of X:', X_train[0])\n",
        "print('y: ', y_train.shape)\n",
        "print('Sample of y:', y_train[0])"
      ],
      "execution_count": 2,
      "outputs": [
        {
          "output_type": "stream",
          "name": "stdout",
          "text": [
            "X:  (120, 2)\n",
            "Sample of X: [-1.96601474 -8.59689627]\n",
            "y:  (120,)\n",
            "Sample of y: 0\n"
          ]
        }
      ]
    },
    {
      "cell_type": "code",
      "metadata": {
        "colab": {
          "base_uri": "https://localhost:8080/",
          "height": 374
        },
        "id": "SB-zQ53PjwFW",
        "outputId": "36e1a954-1a07-4ff6-b1ca-8af2cd2e457d"
      },
      "source": [
        "# plot data samples\n",
        "fig = plt.figure(figsize=(8,6))\n",
        "plt.scatter(X[:, 0], y, color='g', s=30)\n",
        "plt.show()"
      ],
      "execution_count": 3,
      "outputs": [
        {
          "output_type": "display_data",
          "data": {
            "image/png": "[encoded data removed]",
            "text/plain": [
              "<Figure size 576x432 with 1 Axes>"
            ]
          },
          "metadata": {
            "needs_background": "light"
          }
        }
      ]
    },
    {
      "cell_type": "markdown",
      "metadata": {
        "id": "HAzP0jp6j25d"
      },
      "source": [
        "### **Perceptron from scratch**"
      ]
    },
    {
      "cell_type": "code",
      "metadata": {
        "id": "3QtCdgW4jyC3"
      },
      "source": [
        "class PerceptronModel:\n",
        "    def __init__(self, learning_rate=0.01, n_iters=1000):\n",
        "        self.lr = learning_rate\n",
        "        self.n_iters = n_iters\n",
        "        self.activation_func = self._unit_step_func\n",
        "        self.weights = None\n",
        "        self.bias = None\n",
        "\n",
        "    def fit(self, X, y):\n",
        "        n_samples, n_features = X.shape\n",
        "\n",
        "        # init parameters\n",
        "        self.weights = np.zeros(n_features)\n",
        "        self.bias = 0\n",
        "\n",
        "        y_ = np.array([1 if i > 0 else 0 for i in y])\n",
        "\n",
        "        for _ in range(self.n_iters):\n",
        "\n",
        "            for idx, x_i in enumerate(X):\n",
        "\n",
        "                linear_output = np.dot(x_i, self.weights) + self.bias\n",
        "                y_predicted = self.activation_func(linear_output)\n",
        "\n",
        "                # Perceptron update rule\n",
        "                update = self.lr * (y_[idx] - y_predicted)\n",
        "\n",
        "                self.weights += update * x_i\n",
        "                self.bias += update\n",
        "\n",
        "    def predict(self, X):\n",
        "        linear_output = np.dot(X, self.weights) + self.bias\n",
        "        y_predicted = self.activation_func(linear_output)\n",
        "        return y_predicted\n",
        "\n",
        "    def _unit_step_func(self, x):\n",
        "        return np.where(x >= 0, 1, 0)"
      ],
      "execution_count": 4,
      "outputs": []
    },
    {
      "cell_type": "code",
      "metadata": {
        "id": "B7r7QEwnj6-d"
      },
      "source": [
        "# train the model\n",
        "p = PerceptronModel(learning_rate=0.01, n_iters=1000)\n",
        "p.fit(X_train, y_train)\n",
        "predictions = p.predict(X_test)"
      ],
      "execution_count": 5,
      "outputs": []
    },
    {
      "cell_type": "code",
      "metadata": {
        "colab": {
          "base_uri": "https://localhost:8080/"
        },
        "id": "WeFgjryykDNU",
        "outputId": "643c1acc-9a7b-4ab6-a6da-d3ecf2da9894"
      },
      "source": [
        "# model accuracy\n",
        "def accuracy(y_true, y_pred):\n",
        "  accuracy = np.sum(y_true == y_pred) / len(y_true)\n",
        "  return accuracy\n",
        "\n",
        "print('Accuracy: ', round(accuracy(y_test, predictions)*100, 2), '%')"
      ],
      "execution_count": 6,
      "outputs": [
        {
          "output_type": "stream",
          "name": "stdout",
          "text": [
            "Accuracy:  100.0 %\n"
          ]
        }
      ]
    },
    {
      "cell_type": "code",
      "metadata": {
        "colab": {
          "base_uri": "https://localhost:8080/",
          "height": 264
        },
        "id": "sme0IFqPkQTM",
        "outputId": "570b674a-3f9b-481d-cbf2-4803afd0cd63"
      },
      "source": [
        "fig = plt.figure()\n",
        "ax = fig.add_subplot(1, 1, 1)\n",
        "plt.scatter(X_train[:, 0], X_train[:, 1], marker=\"o\", c=y_train)\n",
        "\n",
        "x0_1 = np.amin(X_train[:, 0])\n",
        "x0_2 = np.amax(X_train[:, 0])\n",
        "\n",
        "x1_1 = (-p.weights[0] * x0_1 - p.bias) / p.weights[1]\n",
        "x1_2 = (-p.weights[0] * x0_2 - p.bias) / p.weights[1]\n",
        "\n",
        "ax.plot([x0_1, x0_2], [x1_1, x1_2], \"k\")\n",
        "\n",
        "ymin = np.amin(X_train[:, 1])\n",
        "ymax = np.amax(X_train[:, 1])\n",
        "ax.set_ylim([ymin - 3, ymax + 3])\n",
        "\n",
        "plt.show()"
      ],
      "execution_count": 7,
      "outputs": [
        {
          "output_type": "display_data",
          "data": {
            "image/png": "[encoded data removed]",
            "text/plain": [
              "<Figure size 432x288 with 1 Axes>"
            ]
          },
          "metadata": {
            "needs_background": "light"
          }
        }
      ]
    },
    {
      "cell_type": "code",
      "metadata": {
        "colab": {
          "base_uri": "https://localhost:8080/",
          "height": 286
        },
        "id": "TAr6aqodkVZJ",
        "outputId": "6234b07c-8b74-419a-e7a9-07b67ba17737"
      },
      "source": [
        "# confusion matrix\n",
        "sns.heatmap(confusion_matrix(y_test, predictions), annot=True)"
      ],
      "execution_count": 8,
      "outputs": [
        {
          "output_type": "execute_result",
          "data": {
            "text/plain": [
              "<matplotlib.axes._subplots.AxesSubplot at 0x7f066ff03550>"
            ]
          },
          "metadata": {},
          "execution_count": 8
        },
        {
          "output_type": "display_data",
          "data": {
            "image/png": "[encoded data removed]",
            "text/plain": [
              "<Figure size 432x288 with 2 Axes>"
            ]
          },
          "metadata": {
            "needs_background": "light"
          }
        }
      ]
    },
    {
      "cell_type": "code",
      "metadata": {
        "colab": {
          "base_uri": "https://localhost:8080/"
        },
        "id": "B_Klcob1kXYb",
        "outputId": "5fb798a6-e5ca-4269-b57b-1bb5e91ea6a8"
      },
      "source": [
        "# classification report\n",
        "print(classification_report(y, p.predict(X)))"
      ],
      "execution_count": 9,
      "outputs": [
        {
          "output_type": "stream",
          "name": "stdout",
          "text": [
            "              precision    recall  f1-score   support\n",
            "\n",
            "           0       1.00      1.00      1.00        75\n",
            "           1       1.00      1.00      1.00        75\n",
            "\n",
            "    accuracy                           1.00       150\n",
            "   macro avg       1.00      1.00      1.00       150\n",
            "weighted avg       1.00      1.00      1.00       150\n",
            "\n"
          ]
        }
      ]
    },
    {
      "cell_type": "markdown",
      "metadata": {
        "id": "Bc8D_4XekmDH"
      },
      "source": [
        "### **Perceptron using scikit-learn**"
      ]
    },
    {
      "cell_type": "code",
      "metadata": {
        "colab": {
          "base_uri": "https://localhost:8080/"
        },
        "id": "VmTWhPSMkYw4",
        "outputId": "5bff061d-e4ea-4a67-a553-4f7fda55aceb"
      },
      "source": [
        "clf = Perceptron(tol=1e-3, random_state=0)\n",
        "clf.fit(X_train, y_train)\n",
        "y_pred = clf.predict(X_test)\n",
        "\n",
        "accuracy = sklearn.metrics.accuracy_score(y_test, y_pred)\n",
        "print('Accuracy:', round(accuracy*100, 2), '%')"
      ],
      "execution_count": 10,
      "outputs": [
        {
          "output_type": "stream",
          "name": "stdout",
          "text": [
            "Accuracy: 100.0 %\n"
          ]
        }
      ]
    },
    {
      "cell_type": "markdown",
      "metadata": {
        "id": "-dUKkJA4o9xX"
      },
      "source": [
        "**Testing on a different dataset (Digit dataset)**"
      ]
    },
    {
      "cell_type": "code",
      "metadata": {
        "colab": {
          "base_uri": "https://localhost:8080/"
        },
        "id": "79d-zO_An4E0",
        "outputId": "57f520a7-4b41-42c1-ddc4-679cd50220a1"
      },
      "source": [
        "# load dataset\n",
        "from sklearn.datasets import load_digits\n",
        "X, y = load_digits(return_X_y=True)\n",
        "\n",
        "# train-test split\n",
        "X_train, X_test, y_train, y_test = train_test_split(X, y, test_size=0.2, random_state=123)\n",
        "\n",
        "# print data samples\n",
        "print('X: ', X_train.shape)\n",
        "print('Sample of X:', X_train[0])\n",
        "print('y: ', y_train.shape)\n",
        "print('Sample of y:', y_train[0])"
      ],
      "execution_count": 18,
      "outputs": [
        {
          "output_type": "stream",
          "name": "stdout",
          "text": [
            "X:  (1437, 64)\n",
            "Sample of X: [ 0.  0.  0.  6. 15. 11.  2.  0.  0.  0.  6. 13.  4. 13.  5.  0.  0.  0.\n",
            "  7. 11.  0. 13.  3.  0.  0.  0.  2. 15. 13.  7.  0.  0.  0.  3. 13. 12.\n",
            " 16.  2.  0.  0.  0.  8. 15.  1.  9.  8.  0.  0.  0.  0.  7. 14.  8. 16.\n",
            "  1.  0.  0.  0.  0.  5. 12. 16.  2.  0.]\n",
            "y:  (1437,)\n",
            "Sample of y: 8\n"
          ]
        }
      ]
    },
    {
      "cell_type": "code",
      "metadata": {
        "colab": {
          "base_uri": "https://localhost:8080/"
        },
        "id": "7kFsMkOdpDlw",
        "outputId": "583dac7e-ccff-4544-9a20-ce1f1c313e50"
      },
      "source": [
        "# train the model\n",
        "clf = Perceptron(tol=1e-3, random_state=0)\n",
        "clf.fit(X_train, y_train)\n",
        "y_pred = clf.predict(X_test)\n",
        "\n",
        "accuracy = sklearn.metrics.accuracy_score(y_test, y_pred)\n",
        "print('Accuracy:', round(accuracy*100, 2), '%')"
      ],
      "execution_count": 20,
      "outputs": [
        {
          "output_type": "stream",
          "name": "stdout",
          "text": [
            "Accuracy: 95.28 %\n"
          ]
        }
      ]
    },
    {
      "cell_type": "code",
      "metadata": {
        "colab": {
          "base_uri": "https://localhost:8080/",
          "height": 282
        },
        "id": "R4pURyY_nuHq",
        "outputId": "4508ac92-a020-4cd4-be56-70356e1bcd0f"
      },
      "source": [
        "# confusion matrix\n",
        "sns.heatmap(confusion_matrix(y_test, y_pred), annot=True)"
      ],
      "execution_count": 21,
      "outputs": [
        {
          "output_type": "execute_result",
          "data": {
            "text/plain": [
              "<matplotlib.axes._subplots.AxesSubplot at 0x7f066774ee90>"
            ]
          },
          "metadata": {},
          "execution_count": 21
        },
        {
          "output_type": "display_data",
          "data": {
            "image/png": "[encoded data removed]",
            "text/plain": [
              "<Figure size 432x288 with 2 Axes>"
            ]
          },
          "metadata": {
            "needs_background": "light"
          }
        }
      ]
    },
    {
      "cell_type": "code",
      "metadata": {
        "colab": {
          "base_uri": "https://localhost:8080/"
        },
        "id": "YmdA05YynwSY",
        "outputId": "07409f68-6d1f-4471-c8cc-89f8fb3c0517"
      },
      "source": [
        "# classification report\n",
        "print(classification_report(y, clf.predict(X)))"
      ],
      "execution_count": 22,
      "outputs": [
        {
          "output_type": "stream",
          "name": "stdout",
          "text": [
            "              precision    recall  f1-score   support\n",
            "\n",
            "           0       0.98      1.00      0.99       178\n",
            "           1       0.88      0.98      0.93       182\n",
            "           2       0.97      1.00      0.98       177\n",
            "           3       0.99      0.93      0.96       183\n",
            "           4       0.97      1.00      0.99       181\n",
            "           5       0.96      0.97      0.97       182\n",
            "           6       0.99      0.98      0.98       181\n",
            "           7       0.99      0.98      0.99       179\n",
            "           8       0.96      0.90      0.93       174\n",
            "           9       0.99      0.93      0.96       180\n",
            "\n",
            "    accuracy                           0.97      1797\n",
            "   macro avg       0.97      0.97      0.97      1797\n",
            "weighted avg       0.97      0.97      0.97      1797\n",
            "\n"
          ]
        }
      ]
    }
  ]
}