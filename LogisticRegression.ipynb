{
  "nbformat": 4,
  "nbformat_minor": 0,
  "metadata": {
    "colab": {
      "name": "LogisticRegression.ipynb",
      "provenance": [],
      "toc_visible": true,
      "authorship_tag": "ABX9TyPVHahU2ZDp0HZf49VbAeYY",
      "include_colab_link": true
    },
    "kernelspec": {
      "name": "python3",
      "display_name": "Python 3"
    },
    "language_info": {
      "name": "python"
    }
  },
  "cells": [
    {
      "cell_type": "markdown",
      "metadata": {
        "id": "view-in-github",
        "colab_type": "text"
      },
      "source": [
        "<a href=\"https://colab.research.google.com/github/shairatabassum/MachineLearning_python/blob/main/LogisticRegression.ipynb\" target=\"_parent\"><img src=\"https://colab.research.google.com/assets/colab-badge.svg\" alt=\"Open In Colab\"/></a>"
      ]
    },
    {
      "cell_type": "markdown",
      "metadata": {
        "id": "S-Cx3sCdqm9v"
      },
      "source": [
        "# **Logistic Regression Algorithm**\n",
        "\n",
        "In Linear Regression, the data is predicted with a linear function which gives output continuous values. However, when the requirement is to get some probabilities instead of continuous values, a **Sigmoid Function** need to be used in the linear model. This is called **Logistic Regression**. \n",
        "\n",
        "**Sigmoid Function:** $ s(x) = \\frac{1}{1 + e^{-x}} $\n",
        "\n",
        "The Sigmoid Function will give output a probability between 0 and 1.\n",
        "\n",
        "**Approximation:** $ \\hat{y} = h_\\theta (x) = \\frac{1}{1 + e^{-wx + b}} $\n",
        "\n",
        "**Cost Function:** Like Linear Regression, the Logistic Regression also uses **Cost Function** to define the values of weight $w$ and bias $b$. However, instead of using MSE, the Gradient Descent of Logistic Regression uses **Cross-Entropy**. \n",
        "\n",
        "$ J(w,b) = J(\\theta) = \\frac{1}{N} $$\\sum^{n}_{i=1}$$ [y^i \\log(h_\\theta (x^i)) + (1 - y^i) \\log(1 - h_\\theta (x^i))] $\n",
        "\n",
        "The goal is to minimize the error as much as possible which requires to find the minimum of this function. Thus, the derivative of the gradient is calculated in order to find the minimum of the **Cost Function**. Using these calculated derivatives or gradients, an iterative method is applied named **Gradient Descent** to get to the minimum of $J(w)$.\n",
        "\n",
        "Using the cost function with an initialization of weight and bias, it goes towards the direction of the steepest descent. This process is done iteratively until the minimum error is reached. However, the weight and bias are updated after each iteration.\n",
        "\n",
        "**Update Rules:** Same as Linear Regression.\n",
        "* $ w = w - \\alpha \\times dw $\n",
        "* $ b = b - \\alpha \\times db $\n",
        "* $ \\frac{dJ}{dw}\\ = dw = \\frac{1}{N}\\ $$\\sum^{n}_{i=1}$$ - 2x_i (y_i - (wx_i + b)) = \\frac{1}{N}\\ $$\\sum^{n}_{i=1}$$ 2x_i(\\hat{y} - y_i) $\n",
        "* $ \\frac{dJ}{db}\\ = db = \\frac{1}{N}\\ $$\\sum^{n}_{i=1}$$ - 2 (y_i - (wx_i + b)) = \\frac{1}{N}\\ $$\\sum^{n}_{i=1}$$ 2(\\hat{y} - y_i) $\n",
        "\n",
        "Here, the $\\alpha$ is called **Learning Rate** which defines how far the steps should be taken towards the direction of the steepest descent in each iteration. If the learning rate is small, it may take longer but it can finally reach to the minimum. On the otherhand, if the learning rate is big, then it might be faster but it will jump around and never find the minimum. Thus, the learning rate is an important parameter that need to be specified to achieve the goal.\n",
        "\n",
        "**Best Fit Line in Linear Regression:**\n",
        "Linear Regression is the process of finding a line that best fits the data points available on the plot, so that it can be used to predict output values for given inputs. So, a line of best fit is a straight line that represents the best approximation of a scatter plot of data points."
      ]
    },
    {
      "cell_type": "markdown",
      "metadata": {
        "id": "dDrGhaKqxaPr"
      },
      "source": [
        "### **Import Dataset**"
      ]
    },
    {
      "cell_type": "code",
      "metadata": {
        "id": "qc6MBvLqltuH"
      },
      "source": [
        "# import libraries\n",
        "import numpy as np\n",
        "import matplotlib.pyplot as plt\n",
        "from sklearn.model_selection import train_test_split\n",
        "from sklearn import datasets\n",
        "from sklearn.metrics import classification_report, confusion_matrix\n",
        "from sklearn.linear_model import LogisticRegression\n",
        "import sklearn\n",
        "import seaborn as sns"
      ],
      "execution_count": 1,
      "outputs": []
    },
    {
      "cell_type": "code",
      "metadata": {
        "colab": {
          "base_uri": "https://localhost:8080/"
        },
        "id": "E8e9yz0lxjVB",
        "outputId": "bcde689d-f28b-400c-b6a4-214dc21aa8ae"
      },
      "source": [
        "# load dataset\n",
        "bc = datasets.load_breast_cancer()\n",
        "X, y = bc.data, bc.target\n",
        "\n",
        "# train-test split\n",
        "X_train, X_test, y_train, y_test = train_test_split(X, y, test_size=0.2, random_state=1234)\n",
        "\n",
        "# print data samples\n",
        "print('X: ', X_train.shape)\n",
        "print('Sample of X:', X_train[0])\n",
        "print('y: ', y_train.shape)\n",
        "print('Sample of y:', y_train[0])"
      ],
      "execution_count": 2,
      "outputs": [
        {
          "output_type": "stream",
          "name": "stdout",
          "text": [
            "X:  (455, 30)\n",
            "Sample of X: [1.288e+01 1.822e+01 8.445e+01 4.931e+02 1.218e-01 1.661e-01 4.825e-02\n",
            " 5.303e-02 1.709e-01 7.253e-02 4.426e-01 1.169e+00 3.176e+00 3.437e+01\n",
            " 5.273e-03 2.329e-02 1.405e-02 1.244e-02 1.816e-02 3.299e-03 1.505e+01\n",
            " 2.437e+01 9.931e+01 6.747e+02 1.456e-01 2.961e-01 1.246e-01 1.096e-01\n",
            " 2.582e-01 8.893e-02]\n",
            "y:  (455,)\n",
            "Sample of y: 1\n"
          ]
        }
      ]
    },
    {
      "cell_type": "code",
      "metadata": {
        "colab": {
          "base_uri": "https://localhost:8080/",
          "height": 374
        },
        "id": "1_Mwe1tA1j8X",
        "outputId": "62b96926-4f9c-46b0-902e-c47f84361066"
      },
      "source": [
        "# plot data samples\n",
        "fig = plt.figure(figsize=(8,6))\n",
        "plt.scatter(X[:, 0], y, color='g', s=30)\n",
        "plt.show()"
      ],
      "execution_count": 3,
      "outputs": [
        {
          "output_type": "display_data",
          "data": {
            "image/png": "[encoded data removed]",
            "text/plain": [
              "<Figure size 576x432 with 1 Axes>"
            ]
          },
          "metadata": {
            "needs_background": "light"
          }
        }
      ]
    },
    {
      "cell_type": "markdown",
      "metadata": {
        "id": "LTTV2htxyM5e"
      },
      "source": [
        "### **Logistic Regression from scratch**"
      ]
    },
    {
      "cell_type": "code",
      "metadata": {
        "id": "ZvVzG7CbxfqM"
      },
      "source": [
        "class LogisticRegressionModel:\n",
        "    def __init__(self, learning_rate=0.001, n_iters=1000):\n",
        "        self.lr = learning_rate\n",
        "        self.n_iters = n_iters\n",
        "        self.weights = None\n",
        "        self.bias = None\n",
        "\n",
        "    def fit(self, X, y):\n",
        "        n_samples, n_features = X.shape\n",
        "\n",
        "        # init parameters\n",
        "        self.weights = np.zeros(n_features)\n",
        "        self.bias = 0\n",
        "\n",
        "        # gradient descent\n",
        "        for _ in range(self.n_iters):\n",
        "            # approximate y with linear combination of weights and x, plus bias\n",
        "            linear_model = np.dot(X, self.weights) + self.bias\n",
        "            # apply sigmoid function\n",
        "            y_predicted = self._sigmoid(linear_model)\n",
        "\n",
        "            # compute gradients\n",
        "            dw = (1 / n_samples) * np.dot(X.T, (y_predicted - y))\n",
        "            db = (1 / n_samples) * np.sum(y_predicted - y)\n",
        "            # update parameters\n",
        "            self.weights -= self.lr * dw\n",
        "            self.bias -= self.lr * db\n",
        "\n",
        "    def predict(self, X):\n",
        "        linear_model = np.dot(X, self.weights) + self.bias\n",
        "        y_predicted = self._sigmoid(linear_model)\n",
        "        y_predicted_cls = [1 if i > 0.5 else 0 for i in y_predicted]\n",
        "        return np.array(y_predicted_cls)\n",
        "\n",
        "    def _sigmoid(self, x):\n",
        "        return 1 / (1 + np.exp(-x))"
      ],
      "execution_count": 4,
      "outputs": []
    },
    {
      "cell_type": "code",
      "metadata": {
        "id": "bBLCCHRix987"
      },
      "source": [
        "# train the model\n",
        "regressor = LogisticRegressionModel(learning_rate=0.0001, n_iters=1000)\n",
        "regressor.fit(X_train, y_train)\n",
        "predictions = regressor.predict(X_test)"
      ],
      "execution_count": 5,
      "outputs": []
    },
    {
      "cell_type": "code",
      "metadata": {
        "colab": {
          "base_uri": "https://localhost:8080/"
        },
        "id": "492IeBJNyVpG",
        "outputId": "7363fddb-a492-4d0d-de69-4da3e42489d2"
      },
      "source": [
        "# model accuracy\n",
        "def accuracy(y_true, y_pred):\n",
        "        accuracy = np.sum(y_true == y_pred) / len(y_true)\n",
        "        return accuracy\n",
        "\n",
        "print('Accuracy:', round(accuracy(y_test, predictions)*100, 2), '%')"
      ],
      "execution_count": 6,
      "outputs": [
        {
          "output_type": "stream",
          "name": "stdout",
          "text": [
            "Accuracy: 92.98 %\n"
          ]
        }
      ]
    },
    {
      "cell_type": "code",
      "metadata": {
        "colab": {
          "base_uri": "https://localhost:8080/",
          "height": 282
        },
        "id": "PS8F0Ifo4WFT",
        "outputId": "33e90125-c00f-4c6c-8da1-19faea800ae3"
      },
      "source": [
        "# best fit line visualization\n",
        "sns.regplot(x=X_test[:,0], y=predictions, data=bc, logistic=True, color='g')"
      ],
      "execution_count": 8,
      "outputs": [
        {
          "output_type": "execute_result",
          "data": {
            "text/plain": [
              "<matplotlib.axes._subplots.AxesSubplot at 0x7fdd5ba2b950>"
            ]
          },
          "metadata": {},
          "execution_count": 8
        },
        {
          "output_type": "display_data",
          "data": {
            "image/png": "[encoded data removed]",
            "text/plain": [
              "<Figure size 432x288 with 1 Axes>"
            ]
          },
          "metadata": {
            "needs_background": "light"
          }
        }
      ]
    },
    {
      "cell_type": "code",
      "metadata": {
        "colab": {
          "base_uri": "https://localhost:8080/",
          "height": 282
        },
        "id": "Dx9MN9Xk4MX_",
        "outputId": "3bf79b36-e5b6-4f6c-92d9-781a7a301b35"
      },
      "source": [
        "# confusion matrix\n",
        "sns.heatmap(confusion_matrix(y_test, predictions), annot=True)"
      ],
      "execution_count": 9,
      "outputs": [
        {
          "output_type": "execute_result",
          "data": {
            "text/plain": [
              "<matplotlib.axes._subplots.AxesSubplot at 0x7fdd5ba2fa10>"
            ]
          },
          "metadata": {},
          "execution_count": 9
        },
        {
          "output_type": "display_data",
          "data": {
            "image/png": "[encoded data removed]",
            "text/plain": [
              "<Figure size 432x288 with 2 Axes>"
            ]
          },
          "metadata": {
            "needs_background": "light"
          }
        }
      ]
    },
    {
      "cell_type": "code",
      "metadata": {
        "colab": {
          "base_uri": "https://localhost:8080/"
        },
        "id": "Fag56I2rzYa7",
        "outputId": "84d5897e-efc7-4423-9fe6-2a346740bed0"
      },
      "source": [
        "# classification report\n",
        "print(classification_report(y, regressor.predict(X)))"
      ],
      "execution_count": 10,
      "outputs": [
        {
          "output_type": "stream",
          "name": "stdout",
          "text": [
            "              precision    recall  f1-score   support\n",
            "\n",
            "           0       0.96      0.82      0.89       212\n",
            "           1       0.90      0.98      0.94       357\n",
            "\n",
            "    accuracy                           0.92       569\n",
            "   macro avg       0.93      0.90      0.91       569\n",
            "weighted avg       0.92      0.92      0.92       569\n",
            "\n"
          ]
        }
      ]
    },
    {
      "cell_type": "markdown",
      "metadata": {
        "id": "dOM--68I4n0i"
      },
      "source": [
        "### **Logistic Regression using scikit-learn**"
      ]
    },
    {
      "cell_type": "code",
      "metadata": {
        "colab": {
          "base_uri": "https://localhost:8080/"
        },
        "id": "5H141I0NzpZ4",
        "outputId": "c86cff73-6152-4a89-ff88-88c0f5b62582"
      },
      "source": [
        "# train the model\n",
        "logreg = LogisticRegression(max_iter=5000)\n",
        "logreg.fit(X_train, y_train)\n",
        "y_pred=logreg.predict(X_test)\n",
        "\n",
        "# model accuracy\n",
        "accuracy = sklearn.metrics.accuracy_score(y_test,y_pred)\n",
        "print('Accuracy:', round(accuracy*100, 2), '%.')"
      ],
      "execution_count": 17,
      "outputs": [
        {
          "output_type": "stream",
          "name": "stdout",
          "text": [
            "Accuracy: 94.74 %.\n"
          ]
        }
      ]
    },
    {
      "cell_type": "code",
      "metadata": {
        "colab": {
          "base_uri": "https://localhost:8080/",
          "height": 388
        },
        "id": "W1SY6GLe3Uql",
        "outputId": "9862f75a-de04-434d-f0b8-9dee67311cdb"
      },
      "source": [
        "# best fit line visualization\n",
        "sns.regplot(x=X_test[:,0], y=y_pred, data=bc, logistic=True, color='g')"
      ],
      "execution_count": 18,
      "outputs": [
        {
          "output_type": "stream",
          "name": "stderr",
          "text": [
            "/usr/local/lib/python3.7/dist-packages/statsmodels/genmod/families/family.py:890: RuntimeWarning: invalid value encountered in true_divide\n",
            "  n_endog_mu = self._clean((1. - endog) / (1. - mu))\n",
            "/usr/local/lib/python3.7/dist-packages/statsmodels/genmod/families/links.py:190: RuntimeWarning: overflow encountered in exp\n",
            "  t = np.exp(-z)\n",
            "/usr/local/lib/python3.7/dist-packages/statsmodels/genmod/families/family.py:889: RuntimeWarning: invalid value encountered in true_divide\n",
            "  endog_mu = self._clean(endog / mu)\n"
          ]
        },
        {
          "output_type": "execute_result",
          "data": {
            "text/plain": [
              "<matplotlib.axes._subplots.AxesSubplot at 0x7fdd5b6a09d0>"
            ]
          },
          "metadata": {},
          "execution_count": 18
        },
        {
          "output_type": "display_data",
          "data": {
            "image/png": "[encoded data removed]",
            "text/plain": [
              "<Figure size 432x288 with 1 Axes>"
            ]
          },
          "metadata": {
            "needs_background": "light"
          }
        }
      ]
    },
    {
      "cell_type": "code",
      "metadata": {
        "colab": {
          "base_uri": "https://localhost:8080/",
          "height": 282
        },
        "id": "sU5lxbRK3vZO",
        "outputId": "d5144845-031e-4283-9971-60cc78a565d3"
      },
      "source": [
        "# confusion matrix\n",
        "sns.heatmap(confusion_matrix(y_test, y_pred), annot=True)"
      ],
      "execution_count": 19,
      "outputs": [
        {
          "output_type": "execute_result",
          "data": {
            "text/plain": [
              "<matplotlib.axes._subplots.AxesSubplot at 0x7fdd5b612c90>"
            ]
          },
          "metadata": {},
          "execution_count": 19
        },
        {
          "output_type": "display_data",
          "data": {
            "image/png": "[encoded data removed]",
            "text/plain": [
              "<Figure size 432x288 with 2 Axes>"
            ]
          },
          "metadata": {
            "needs_background": "light"
          }
        }
      ]
    },
    {
      "cell_type": "code",
      "metadata": {
        "colab": {
          "base_uri": "https://localhost:8080/"
        },
        "id": "Nxn7befh47KK",
        "outputId": "91002693-e5c6-45c8-ff54-3930aa3af434"
      },
      "source": [
        "# classification report\n",
        "print(classification_report(y, logreg.predict(X)))"
      ],
      "execution_count": 20,
      "outputs": [
        {
          "output_type": "stream",
          "name": "stdout",
          "text": [
            "              precision    recall  f1-score   support\n",
            "\n",
            "           0       0.96      0.92      0.94       212\n",
            "           1       0.96      0.97      0.97       357\n",
            "\n",
            "    accuracy                           0.96       569\n",
            "   macro avg       0.96      0.95      0.95       569\n",
            "weighted avg       0.96      0.96      0.96       569\n",
            "\n"
          ]
        }
      ]
    }
  ]
}